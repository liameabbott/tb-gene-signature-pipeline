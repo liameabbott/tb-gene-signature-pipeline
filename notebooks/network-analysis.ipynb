{
 "cells": [
  {
   "cell_type": "code",
   "execution_count": 1,
   "metadata": {},
   "outputs": [],
   "source": [
    "%load_ext autoreload\n",
    "%autoreload 2\n",
    "import sys\n",
    "sys.path.append('..')"
   ]
  },
  {
   "cell_type": "code",
   "execution_count": 2,
   "metadata": {},
   "outputs": [],
   "source": [
    "import os\n",
    "import json\n",
    "import yaml\n",
    "import numpy as np\n",
    "import pandas as pd\n",
    "from pathlib import Path\n",
    "import tb_gene_signature_pipeline.network_analysis as na"
   ]
  },
  {
   "cell_type": "code",
   "execution_count": 3,
   "metadata": {},
   "outputs": [],
   "source": [
    "project_dir = Path.cwd().resolve().parent"
   ]
  },
  {
   "cell_type": "markdown",
   "metadata": {},
   "source": [
    "### Differential Expression Analysis"
   ]
  },
  {
   "cell_type": "markdown",
   "metadata": {},
   "source": [
    "Generate per-gene differential expression statistics for each dataset and for each case/control group comparison."
   ]
  },
  {
   "cell_type": "code",
   "execution_count": 6,
   "metadata": {},
   "outputs": [],
   "source": [
    "differential_expression_results = na.run_differential_expression_analysis()"
   ]
  },
  {
   "cell_type": "markdown",
   "metadata": {},
   "source": [
    "### Merge Differential Expression Results"
   ]
  },
  {
   "cell_type": "markdown",
   "metadata": {},
   "source": [
    "Given differential expression statistics across datasets and comparisons, filter the results to include\n",
    "only genes with `adj_p_val <= 0.05` and effect size `log_fc >= np.log2(1.5)`. Combine filtered log fold\n",
    "change effect sizes into a ``(gene * n_comparisons)-by-dataset`` dataframe."
   ]
  },
  {
   "cell_type": "code",
   "execution_count": 7,
   "metadata": {},
   "outputs": [],
   "source": [
    "merged_results = na.merge_differential_expression_results(\n",
    "    differential_expression_results, adj_pval_thresh=0.05, log_fc_thresh=np.log2(1.5))"
   ]
  },
  {
   "cell_type": "markdown",
   "metadata": {},
   "source": [
    "### Construct a gene network"
   ]
  },
  {
   "cell_type": "markdown",
   "metadata": {},
   "source": [
    "Use the signficant log fold change effect size estimates to construct a network where nodes correspond to genes\n",
    "and an edge between two nodes represents significant differential expression for each of the two genes in the\n",
    "same direction (positive or negative) in **at least 3 datasets**.\n",
    "\n",
    "A separate network is constructed for each comparison group (`hc` vs. `atb`, etc.).\n",
    "\n",
    "Also computes degree, weighted degree, and eigenvector centrality measures for each node in the networks."
   ]
  },
  {
   "cell_type": "code",
   "execution_count": 8,
   "metadata": {},
   "outputs": [],
   "source": [
    "networks = na.construct_networks(merged_results)"
   ]
  },
  {
   "cell_type": "markdown",
   "metadata": {},
   "source": [
    "### Generate gene lists"
   ]
  },
  {
   "cell_type": "markdown",
   "metadata": {},
   "source": [
    "From the constructed gene networks, generate lists of genes by intersecting genes found in the top\n",
    "100 (as measured by weighted degree) in each comparison network."
   ]
  },
  {
   "cell_type": "code",
   "execution_count": 17,
   "metadata": {},
   "outputs": [],
   "source": [
    "gene_lists = na.combine_networks_into_lists(networks)"
   ]
  },
  {
   "cell_type": "markdown",
   "metadata": {},
   "source": [
    "### Results"
   ]
  },
  {
   "cell_type": "markdown",
   "metadata": {},
   "source": [
    "Inspect the generated gene lists."
   ]
  },
  {
   "cell_type": "code",
   "execution_count": 18,
   "metadata": {},
   "outputs": [
    {
     "name": "stdout",
     "output_type": "stream",
     "text": [
      "top_genes_in_all_networks: 27 genes \n",
      " ['GK', 'CARD17', 'TIMM10', 'GBP1', 'WARS', 'UBE2L6', 'IFI44', 'KCNJ15', 'CASP5', 'EPSTI1', 'BATF2', 'SERPING1', 'FCGR1B', 'GBP5', 'LHFPL2', 'LAP3', 'SAMD9L', 'CEACAM1', 'VAMP5', 'C1QB', 'RTP4', 'ANKRD22', 'FBXO6', 'PSTPIP2', 'AIM2', 'IFITM3', 'IFIT3'] \n",
      "\n",
      "top_genes_not_in_od_network: 21 genes \n",
      " ['ANXA3', 'LY96', 'NAIP', 'CAMP', 'PLSCR1', 'ZNF438', 'BST1', 'S100A12', 'LRRK2', 'FLVCR2', 'SORT1', 'HP', 'JAK2', 'ADM', 'FAM26F', 'CARD16', 'CD274', 'CR1', 'TLR5', 'IFITM1', 'BPI'] \n",
      "\n"
     ]
    }
   ],
   "source": [
    "for k, v in gene_lists.items():\n",
    "    print(f'{k}: {len(v)} genes', '\\n', v, '\\n')"
   ]
  },
  {
   "cell_type": "markdown",
   "metadata": {},
   "source": [
    "Compare to Roger's original lists."
   ]
  },
  {
   "cell_type": "code",
   "execution_count": 19,
   "metadata": {},
   "outputs": [],
   "source": [
    "this_dir = Path.cwd().resolve().parent"
   ]
  },
  {
   "cell_type": "code",
   "execution_count": 27,
   "metadata": {},
   "outputs": [],
   "source": [
    "with (this_dir / 'data' / 'roger_top_genes_all_networks.txt').open('r') as f:\n",
    "    roger_top_genes_in_all_networks = [x.strip() for x in f.readlines()]"
   ]
  },
  {
   "cell_type": "code",
   "execution_count": 28,
   "metadata": {},
   "outputs": [],
   "source": [
    "with (this_dir / 'data' / 'roger_top_genes_not_in_od_network.txt').open('r') as f:\n",
    "    roger_top_genes_not_in_od_network = [x.strip() for x in f.readlines()]"
   ]
  },
  {
   "cell_type": "code",
   "execution_count": 29,
   "metadata": {},
   "outputs": [
    {
     "name": "stdout",
     "output_type": "stream",
     "text": [
      "roger_top_genes_all_networks: 24 genes \n",
      " ['GBP5', 'IFIT3', 'LAP3', 'VAMP5', 'PSTPIP2', 'C1QB', 'DUSP3', 'CEACAM1', 'WARS', 'XAF1', 'SERPING1', 'GBP4', 'BATF2', 'ANKRD22', 'TLR5', 'SMARCD3', 'ADM', 'AIM2', 'FCGR1B', 'FAM26F', 'EPSTI1', 'GBP1', 'IFITM3', 'ANXA3'] \n",
      "\n",
      "roger_top_genes_not_in_od_network: 23 genes \n",
      " ['TNFSF10', 'DYSF', 'IL1B', 'GK', 'LHFPL2', 'TRIM22', 'CLEC4D', 'TNFSF13B', 'PLAUR', 'LY96', 'FBXO6', 'KCNJ15', 'SPOCK2', 'TMEM204', 'IL7R', 'GPR183', 'ID3', 'CD6', 'KLRB1', 'PIK3IP1', 'CCR7', 'NELL2', 'SKAP1'] \n",
      "\n"
     ]
    }
   ],
   "source": [
    "print(f'roger_top_genes_all_networks: {len(roger_top_genes_in_all_networks)} genes',\n",
    "      '\\n', roger_top_genes_in_all_networks, '\\n')\n",
    "print(f'roger_top_genes_not_in_od_network: {len(roger_top_genes_not_in_od_network)} genes',\n",
    "      '\\n', roger_top_genes_not_in_od_network, '\\n')"
   ]
  },
  {
   "cell_type": "markdown",
   "metadata": {},
   "source": [
    "Intersection of top genes in all networks, original and new lists:"
   ]
  },
  {
   "cell_type": "code",
   "execution_count": 34,
   "metadata": {},
   "outputs": [],
   "source": [
    "all_networks_intersection = list(set(gene_lists['top_genes_in_all_networks']).intersection(set(roger_top_genes_in_all_networks)))"
   ]
  },
  {
   "cell_type": "code",
   "execution_count": 35,
   "metadata": {},
   "outputs": [
    {
     "name": "stdout",
     "output_type": "stream",
     "text": [
      "all networks intersection: 16 genes \n",
      " ['C1QB', 'SERPING1', 'ANKRD22', 'FCGR1B', 'GBP5', 'PSTPIP2', 'IFITM3', 'LAP3', 'CEACAM1', 'AIM2', 'VAMP5', 'EPSTI1', 'GBP1', 'BATF2', 'WARS', 'IFIT3']\n"
     ]
    }
   ],
   "source": [
    "print(f'all networks intersection: {len(all_networks_intersection)} genes', '\\n', all_networks_intersection)"
   ]
  },
  {
   "cell_type": "markdown",
   "metadata": {},
   "source": [
    "Intersection of top genes not in OD networks, original and new lists:"
   ]
  },
  {
   "cell_type": "code",
   "execution_count": 37,
   "metadata": {},
   "outputs": [],
   "source": [
    "not_in_od_network_intersection = list(set(gene_lists['top_genes_not_in_od_network']).intersection(set(roger_top_genes_not_in_od_network)))"
   ]
  },
  {
   "cell_type": "code",
   "execution_count": 38,
   "metadata": {},
   "outputs": [
    {
     "name": "stdout",
     "output_type": "stream",
     "text": [
      "not in OD network intersection: 1 genes \n",
      " ['LY96']\n"
     ]
    }
   ],
   "source": [
    "print(f'not in OD network intersection: {len(not_in_od_network_intersection)} genes', '\\n', not_in_od_network_intersection)"
   ]
  },
  {
   "cell_type": "markdown",
   "metadata": {},
   "source": [
    "Write out gene lists."
   ]
  },
  {
   "cell_type": "code",
   "execution_count": 40,
   "metadata": {},
   "outputs": [],
   "source": [
    "with (this_dir / 'data' / 'top_genes_in_all_networks.txt').open('w') as f:\n",
    "    for gene in gene_lists['top_genes_in_all_networks']:\n",
    "        f.write(gene + '\\n')"
   ]
  },
  {
   "cell_type": "code",
   "execution_count": 41,
   "metadata": {},
   "outputs": [],
   "source": [
    "with (this_dir / 'data' / 'top_genes_not_in_od_network.txt').open('w') as f:\n",
    "    for gene in gene_lists['top_genes_not_in_od_network']:\n",
    "        f.write(gene + '\\n')"
   ]
  },
  {
   "cell_type": "code",
   "execution_count": null,
   "metadata": {},
   "outputs": [],
   "source": []
  }
 ],
 "metadata": {
  "kernelspec": {
   "display_name": "tb-gene-signature",
   "language": "python",
   "name": "tb-gene-signature"
  },
  "language_info": {
   "codemirror_mode": {
    "name": "ipython",
    "version": 3
   },
   "file_extension": ".py",
   "mimetype": "text/x-python",
   "name": "python",
   "nbconvert_exporter": "python",
   "pygments_lexer": "ipython3",
   "version": "3.8.8"
  }
 },
 "nbformat": 4,
 "nbformat_minor": 4
}
