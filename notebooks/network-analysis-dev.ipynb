{
 "cells": [
  {
   "cell_type": "code",
   "execution_count": 31,
   "metadata": {},
   "outputs": [
    {
     "name": "stdout",
     "output_type": "stream",
     "text": [
      "The autoreload extension is already loaded. To reload it, use:\n",
      "  %reload_ext autoreload\n"
     ]
    }
   ],
   "source": [
    "%load_ext autoreload\n",
    "%autoreload 2\n",
    "import sys\n",
    "sys.path.append('../gene-signature-ml-pipeline')"
   ]
  },
  {
   "cell_type": "code",
   "execution_count": 226,
   "metadata": {},
   "outputs": [],
   "source": [
    "import os\n",
    "import json\n",
    "import yaml\n",
    "from subprocess import Popen, PIPE\n",
    "from pathlib import Path\n",
    "from network_analysis import *"
   ]
  },
  {
   "cell_type": "code",
   "execution_count": 33,
   "metadata": {},
   "outputs": [],
   "source": [
    "project_dir = Path.cwd().resolve().parent"
   ]
  },
  {
   "cell_type": "code",
   "execution_count": 34,
   "metadata": {},
   "outputs": [],
   "source": [
    "with (project_dir / 'config.yml').open('r') as f:\n",
    "    config = yaml.safe_load(f)"
   ]
  },
  {
   "cell_type": "code",
   "execution_count": 35,
   "metadata": {},
   "outputs": [],
   "source": [
    "data_dir = Path(config['data_directory'])"
   ]
  },
  {
   "cell_type": "code",
   "execution_count": 36,
   "metadata": {},
   "outputs": [],
   "source": [
    "with (project_dir / 'data' / 'datasets.json').open('r') as f:\n",
    "    datasets = json.load(f)"
   ]
  },
  {
   "cell_type": "code",
   "execution_count": 37,
   "metadata": {},
   "outputs": [],
   "source": [
    "with (project_dir / 'data' / 'platforms.json').open('r') as f:\n",
    "    platforms = json.load(f)"
   ]
  },
  {
   "cell_type": "code",
   "execution_count": 38,
   "metadata": {},
   "outputs": [],
   "source": [
    "with (project_dir / 'data' / 'comparisons.json').open('r') as f:\n",
    "    comparisons = json.load(f)"
   ]
  },
  {
   "cell_type": "markdown",
   "metadata": {},
   "source": [
    "#### notebook 1"
   ]
  },
  {
   "cell_type": "code",
   "execution_count": 80,
   "metadata": {},
   "outputs": [
    {
     "name": "stdout",
     "output_type": "stream",
     "text": [
      "/efs/liam/tb-gene-signature-datasets/network-analysis/convert-to-scripts/differential_expression_results.tsv\n",
      "          dataset control case  gene_symbol    log_fc  adj_p_val\n",
      "0        GSE19439      hc  atb         A1BG  0.026045   0.917217\n",
      "1        GSE19439      hc  atb         A1CF  0.091435   0.468395\n",
      "2        GSE19439      hc  atb          A2M  0.007356   0.964635\n",
      "3        GSE19439      hc  atb        A2ML1 -0.171059   0.204401\n",
      "4        GSE19439      hc  atb      A3GALT2 -0.008727   0.967318\n",
      "...           ...     ...  ...          ...       ...        ...\n",
      "948963  GSE107994    ltbi  atb         H4C4  1.143974   0.000019\n",
      "948964  GSE107994    ltbi  atb  SLC44A3-AS1  0.430325   0.223273\n",
      "948965  GSE107994    ltbi  atb       SUCNR1  1.003668   0.000224\n",
      "948966  GSE107994    ltbi  atb   AL161787.1  0.357804   0.156444\n",
      "948967  GSE107994    ltbi  atb      RPL39P3  0.297987   0.191242\n",
      "\n",
      "[948968 rows x 6 columns]\n"
     ]
    }
   ],
   "source": [
    "differential_expression_results = run_differential_gene_expression_analysis()"
   ]
  },
  {
   "cell_type": "markdown",
   "metadata": {},
   "source": [
    "#### notebook 2"
   ]
  },
  {
   "cell_type": "code",
   "execution_count": 146,
   "metadata": {},
   "outputs": [],
   "source": [
    "merged_results = merge_differential_expression_results(\n",
    "    differential_expression_results, pval_thresh=0.05, log_fc_thresh=np.log2(1.5))"
   ]
  },
  {
   "cell_type": "markdown",
   "metadata": {},
   "source": [
    "#### notebook 5"
   ]
  },
  {
   "cell_type": "code",
   "execution_count": 147,
   "metadata": {},
   "outputs": [
    {
     "data": {
      "text/html": [
       "<div>\n",
       "<style scoped>\n",
       "    .dataframe tbody tr th:only-of-type {\n",
       "        vertical-align: middle;\n",
       "    }\n",
       "\n",
       "    .dataframe tbody tr th {\n",
       "        vertical-align: top;\n",
       "    }\n",
       "\n",
       "    .dataframe thead th {\n",
       "        text-align: right;\n",
       "    }\n",
       "</style>\n",
       "<table border=\"1\" class=\"dataframe\">\n",
       "  <thead>\n",
       "    <tr style=\"text-align: right;\">\n",
       "      <th></th>\n",
       "      <th>control</th>\n",
       "      <th>case</th>\n",
       "      <th>gene_symbol</th>\n",
       "      <th>GSE107994</th>\n",
       "      <th>GSE19439</th>\n",
       "      <th>GSE19444</th>\n",
       "      <th>GSE28623</th>\n",
       "      <th>GSE29536</th>\n",
       "      <th>GSE34608</th>\n",
       "      <th>GSE42825</th>\n",
       "      <th>...</th>\n",
       "      <th>GSE83456</th>\n",
       "      <th>GSE84076</th>\n",
       "      <th>GSE107993</th>\n",
       "      <th>GSE101705</th>\n",
       "      <th>GSE19442</th>\n",
       "      <th>GSE37250</th>\n",
       "      <th>GSE39939</th>\n",
       "      <th>GSE39940</th>\n",
       "      <th>GSE69581</th>\n",
       "      <th>GSE73408</th>\n",
       "    </tr>\n",
       "  </thead>\n",
       "  <tbody>\n",
       "    <tr>\n",
       "      <th>0</th>\n",
       "      <td>hc</td>\n",
       "      <td>atb</td>\n",
       "      <td>1060P11.3</td>\n",
       "      <td>0.0</td>\n",
       "      <td>0.0</td>\n",
       "      <td>0.0</td>\n",
       "      <td>0.0</td>\n",
       "      <td>0.0</td>\n",
       "      <td>0.000000</td>\n",
       "      <td>0.000000</td>\n",
       "      <td>...</td>\n",
       "      <td>0.0</td>\n",
       "      <td>0.0</td>\n",
       "      <td>0.0</td>\n",
       "      <td>0.0</td>\n",
       "      <td>0.0</td>\n",
       "      <td>0.0</td>\n",
       "      <td>0.0</td>\n",
       "      <td>0.0</td>\n",
       "      <td>0.0</td>\n",
       "      <td>0.0</td>\n",
       "    </tr>\n",
       "    <tr>\n",
       "      <th>1</th>\n",
       "      <td>hc</td>\n",
       "      <td>atb</td>\n",
       "      <td>A2M-AS1</td>\n",
       "      <td>0.0</td>\n",
       "      <td>0.0</td>\n",
       "      <td>0.0</td>\n",
       "      <td>0.0</td>\n",
       "      <td>0.0</td>\n",
       "      <td>0.000000</td>\n",
       "      <td>0.000000</td>\n",
       "      <td>...</td>\n",
       "      <td>0.0</td>\n",
       "      <td>0.0</td>\n",
       "      <td>0.0</td>\n",
       "      <td>0.0</td>\n",
       "      <td>0.0</td>\n",
       "      <td>0.0</td>\n",
       "      <td>0.0</td>\n",
       "      <td>0.0</td>\n",
       "      <td>0.0</td>\n",
       "      <td>0.0</td>\n",
       "    </tr>\n",
       "    <tr>\n",
       "      <th>2</th>\n",
       "      <td>hc</td>\n",
       "      <td>atb</td>\n",
       "      <td>AAED1</td>\n",
       "      <td>0.0</td>\n",
       "      <td>0.0</td>\n",
       "      <td>0.0</td>\n",
       "      <td>0.0</td>\n",
       "      <td>0.0</td>\n",
       "      <td>0.862417</td>\n",
       "      <td>0.000000</td>\n",
       "      <td>...</td>\n",
       "      <td>0.0</td>\n",
       "      <td>0.0</td>\n",
       "      <td>0.0</td>\n",
       "      <td>0.0</td>\n",
       "      <td>0.0</td>\n",
       "      <td>0.0</td>\n",
       "      <td>0.0</td>\n",
       "      <td>0.0</td>\n",
       "      <td>0.0</td>\n",
       "      <td>0.0</td>\n",
       "    </tr>\n",
       "    <tr>\n",
       "      <th>3</th>\n",
       "      <td>hc</td>\n",
       "      <td>atb</td>\n",
       "      <td>AAMDC</td>\n",
       "      <td>0.0</td>\n",
       "      <td>0.0</td>\n",
       "      <td>0.0</td>\n",
       "      <td>0.0</td>\n",
       "      <td>0.0</td>\n",
       "      <td>0.000000</td>\n",
       "      <td>0.694117</td>\n",
       "      <td>...</td>\n",
       "      <td>0.0</td>\n",
       "      <td>0.0</td>\n",
       "      <td>0.0</td>\n",
       "      <td>0.0</td>\n",
       "      <td>0.0</td>\n",
       "      <td>0.0</td>\n",
       "      <td>0.0</td>\n",
       "      <td>0.0</td>\n",
       "      <td>0.0</td>\n",
       "      <td>0.0</td>\n",
       "    </tr>\n",
       "    <tr>\n",
       "      <th>4</th>\n",
       "      <td>hc</td>\n",
       "      <td>atb</td>\n",
       "      <td>AAMP</td>\n",
       "      <td>0.0</td>\n",
       "      <td>0.0</td>\n",
       "      <td>0.0</td>\n",
       "      <td>0.0</td>\n",
       "      <td>0.0</td>\n",
       "      <td>0.000000</td>\n",
       "      <td>0.000000</td>\n",
       "      <td>...</td>\n",
       "      <td>0.0</td>\n",
       "      <td>0.0</td>\n",
       "      <td>0.0</td>\n",
       "      <td>0.0</td>\n",
       "      <td>0.0</td>\n",
       "      <td>0.0</td>\n",
       "      <td>0.0</td>\n",
       "      <td>0.0</td>\n",
       "      <td>0.0</td>\n",
       "      <td>0.0</td>\n",
       "    </tr>\n",
       "    <tr>\n",
       "      <th>...</th>\n",
       "      <td>...</td>\n",
       "      <td>...</td>\n",
       "      <td>...</td>\n",
       "      <td>...</td>\n",
       "      <td>...</td>\n",
       "      <td>...</td>\n",
       "      <td>...</td>\n",
       "      <td>...</td>\n",
       "      <td>...</td>\n",
       "      <td>...</td>\n",
       "      <td>...</td>\n",
       "      <td>...</td>\n",
       "      <td>...</td>\n",
       "      <td>...</td>\n",
       "      <td>...</td>\n",
       "      <td>...</td>\n",
       "      <td>...</td>\n",
       "      <td>...</td>\n",
       "      <td>...</td>\n",
       "      <td>...</td>\n",
       "      <td>...</td>\n",
       "    </tr>\n",
       "    <tr>\n",
       "      <th>12612</th>\n",
       "      <td>od</td>\n",
       "      <td>atb</td>\n",
       "      <td>ZNF438</td>\n",
       "      <td>0.0</td>\n",
       "      <td>0.0</td>\n",
       "      <td>0.0</td>\n",
       "      <td>0.0</td>\n",
       "      <td>0.0</td>\n",
       "      <td>0.000000</td>\n",
       "      <td>0.730323</td>\n",
       "      <td>...</td>\n",
       "      <td>0.0</td>\n",
       "      <td>0.0</td>\n",
       "      <td>0.0</td>\n",
       "      <td>0.0</td>\n",
       "      <td>0.0</td>\n",
       "      <td>0.0</td>\n",
       "      <td>0.0</td>\n",
       "      <td>0.0</td>\n",
       "      <td>0.0</td>\n",
       "      <td>0.0</td>\n",
       "    </tr>\n",
       "    <tr>\n",
       "      <th>12613</th>\n",
       "      <td>od</td>\n",
       "      <td>atb</td>\n",
       "      <td>ZNF593</td>\n",
       "      <td>0.0</td>\n",
       "      <td>0.0</td>\n",
       "      <td>0.0</td>\n",
       "      <td>0.0</td>\n",
       "      <td>0.0</td>\n",
       "      <td>0.707623</td>\n",
       "      <td>0.000000</td>\n",
       "      <td>...</td>\n",
       "      <td>0.0</td>\n",
       "      <td>0.0</td>\n",
       "      <td>0.0</td>\n",
       "      <td>0.0</td>\n",
       "      <td>0.0</td>\n",
       "      <td>0.0</td>\n",
       "      <td>0.0</td>\n",
       "      <td>0.0</td>\n",
       "      <td>0.0</td>\n",
       "      <td>0.0</td>\n",
       "    </tr>\n",
       "    <tr>\n",
       "      <th>12614</th>\n",
       "      <td>od</td>\n",
       "      <td>atb</td>\n",
       "      <td>ZNF785</td>\n",
       "      <td>0.0</td>\n",
       "      <td>0.0</td>\n",
       "      <td>0.0</td>\n",
       "      <td>0.0</td>\n",
       "      <td>0.0</td>\n",
       "      <td>0.000000</td>\n",
       "      <td>1.169437</td>\n",
       "      <td>...</td>\n",
       "      <td>0.0</td>\n",
       "      <td>0.0</td>\n",
       "      <td>0.0</td>\n",
       "      <td>0.0</td>\n",
       "      <td>0.0</td>\n",
       "      <td>0.0</td>\n",
       "      <td>0.0</td>\n",
       "      <td>0.0</td>\n",
       "      <td>0.0</td>\n",
       "      <td>0.0</td>\n",
       "    </tr>\n",
       "    <tr>\n",
       "      <th>12615</th>\n",
       "      <td>od</td>\n",
       "      <td>atb</td>\n",
       "      <td>ZNFX1</td>\n",
       "      <td>0.0</td>\n",
       "      <td>0.0</td>\n",
       "      <td>0.0</td>\n",
       "      <td>0.0</td>\n",
       "      <td>0.0</td>\n",
       "      <td>0.000000</td>\n",
       "      <td>0.000000</td>\n",
       "      <td>...</td>\n",
       "      <td>0.0</td>\n",
       "      <td>0.0</td>\n",
       "      <td>0.0</td>\n",
       "      <td>0.0</td>\n",
       "      <td>0.0</td>\n",
       "      <td>0.0</td>\n",
       "      <td>0.0</td>\n",
       "      <td>0.0</td>\n",
       "      <td>0.0</td>\n",
       "      <td>0.0</td>\n",
       "    </tr>\n",
       "    <tr>\n",
       "      <th>12616</th>\n",
       "      <td>od</td>\n",
       "      <td>atb</td>\n",
       "      <td>ZNHIT1</td>\n",
       "      <td>0.0</td>\n",
       "      <td>0.0</td>\n",
       "      <td>0.0</td>\n",
       "      <td>0.0</td>\n",
       "      <td>0.0</td>\n",
       "      <td>0.614756</td>\n",
       "      <td>0.000000</td>\n",
       "      <td>...</td>\n",
       "      <td>0.0</td>\n",
       "      <td>0.0</td>\n",
       "      <td>0.0</td>\n",
       "      <td>0.0</td>\n",
       "      <td>0.0</td>\n",
       "      <td>0.0</td>\n",
       "      <td>0.0</td>\n",
       "      <td>0.0</td>\n",
       "      <td>0.0</td>\n",
       "      <td>0.0</td>\n",
       "    </tr>\n",
       "  </tbody>\n",
       "</table>\n",
       "<p>12617 rows × 26 columns</p>\n",
       "</div>"
      ],
      "text/plain": [
       "      control case gene_symbol  GSE107994  GSE19439  GSE19444  GSE28623  \\\n",
       "0          hc  atb   1060P11.3        0.0       0.0       0.0       0.0   \n",
       "1          hc  atb     A2M-AS1        0.0       0.0       0.0       0.0   \n",
       "2          hc  atb       AAED1        0.0       0.0       0.0       0.0   \n",
       "3          hc  atb       AAMDC        0.0       0.0       0.0       0.0   \n",
       "4          hc  atb        AAMP        0.0       0.0       0.0       0.0   \n",
       "...       ...  ...         ...        ...       ...       ...       ...   \n",
       "12612      od  atb      ZNF438        0.0       0.0       0.0       0.0   \n",
       "12613      od  atb      ZNF593        0.0       0.0       0.0       0.0   \n",
       "12614      od  atb      ZNF785        0.0       0.0       0.0       0.0   \n",
       "12615      od  atb       ZNFX1        0.0       0.0       0.0       0.0   \n",
       "12616      od  atb      ZNHIT1        0.0       0.0       0.0       0.0   \n",
       "\n",
       "       GSE29536  GSE34608  GSE42825  ...  GSE83456  GSE84076  GSE107993  \\\n",
       "0           0.0  0.000000  0.000000  ...       0.0       0.0        0.0   \n",
       "1           0.0  0.000000  0.000000  ...       0.0       0.0        0.0   \n",
       "2           0.0  0.862417  0.000000  ...       0.0       0.0        0.0   \n",
       "3           0.0  0.000000  0.694117  ...       0.0       0.0        0.0   \n",
       "4           0.0  0.000000  0.000000  ...       0.0       0.0        0.0   \n",
       "...         ...       ...       ...  ...       ...       ...        ...   \n",
       "12612       0.0  0.000000  0.730323  ...       0.0       0.0        0.0   \n",
       "12613       0.0  0.707623  0.000000  ...       0.0       0.0        0.0   \n",
       "12614       0.0  0.000000  1.169437  ...       0.0       0.0        0.0   \n",
       "12615       0.0  0.000000  0.000000  ...       0.0       0.0        0.0   \n",
       "12616       0.0  0.614756  0.000000  ...       0.0       0.0        0.0   \n",
       "\n",
       "       GSE101705  GSE19442  GSE37250  GSE39939  GSE39940  GSE69581  GSE73408  \n",
       "0            0.0       0.0       0.0       0.0       0.0       0.0       0.0  \n",
       "1            0.0       0.0       0.0       0.0       0.0       0.0       0.0  \n",
       "2            0.0       0.0       0.0       0.0       0.0       0.0       0.0  \n",
       "3            0.0       0.0       0.0       0.0       0.0       0.0       0.0  \n",
       "4            0.0       0.0       0.0       0.0       0.0       0.0       0.0  \n",
       "...          ...       ...       ...       ...       ...       ...       ...  \n",
       "12612        0.0       0.0       0.0       0.0       0.0       0.0       0.0  \n",
       "12613        0.0       0.0       0.0       0.0       0.0       0.0       0.0  \n",
       "12614        0.0       0.0       0.0       0.0       0.0       0.0       0.0  \n",
       "12615        0.0       0.0       0.0       0.0       0.0       0.0       0.0  \n",
       "12616        0.0       0.0       0.0       0.0       0.0       0.0       0.0  \n",
       "\n",
       "[12617 rows x 26 columns]"
      ]
     },
     "execution_count": 147,
     "metadata": {},
     "output_type": "execute_result"
    }
   ],
   "source": [
    "merged_results"
   ]
  },
  {
   "cell_type": "code",
   "execution_count": 148,
   "metadata": {},
   "outputs": [],
   "source": [
    "df = merged_results.copy()\n",
    "df = df.loc[(df['control'] == 'hc') & (df['case'] == 'atb')]"
   ]
  },
  {
   "cell_type": "code",
   "execution_count": 149,
   "metadata": {},
   "outputs": [],
   "source": [
    "m = df.drop(['control', 'case', 'gene_symbol'], axis=1).values"
   ]
  },
  {
   "cell_type": "code",
   "execution_count": 167,
   "metadata": {},
   "outputs": [],
   "source": [
    "n_genes = m.shape[0]"
   ]
  },
  {
   "cell_type": "code",
   "execution_count": 175,
   "metadata": {},
   "outputs": [],
   "source": [
    "n_datasets = (m.sum(axis=0) > 0).sum()"
   ]
  },
  {
   "cell_type": "code",
   "execution_count": 150,
   "metadata": {},
   "outputs": [],
   "source": [
    "m[m > 0] = 1\n",
    "m[m == 0] = 0\n",
    "m[m < 0] = -1"
   ]
  },
  {
   "cell_type": "code",
   "execution_count": 191,
   "metadata": {},
   "outputs": [
    {
     "data": {
      "text/plain": [
       "array([[0, 0, 0],\n",
       "       [0, 0, 0],\n",
       "       [0, 0, 0]])"
      ]
     },
     "execution_count": 191,
     "metadata": {},
     "output_type": "execute_result"
    }
   ],
   "source": [
    "m[9:12,9:12]"
   ]
  },
  {
   "cell_type": "code",
   "execution_count": 152,
   "metadata": {},
   "outputs": [],
   "source": [
    "m = m.astype(int)"
   ]
  },
  {
   "cell_type": "code",
   "execution_count": 205,
   "metadata": {},
   "outputs": [],
   "source": [
    "edge_weights = m.dot(m.T)"
   ]
  },
  {
   "cell_type": "code",
   "execution_count": 206,
   "metadata": {},
   "outputs": [],
   "source": [
    "edge_weights_mask = np.abs(edge_weights) >= 3"
   ]
  },
  {
   "cell_type": "code",
   "execution_count": 220,
   "metadata": {},
   "outputs": [],
   "source": [
    "edge_indices = zip(*np.triu(edge_weights_mask).nonzero())"
   ]
  },
  {
   "cell_type": "code",
   "execution_count": 211,
   "metadata": {},
   "outputs": [],
   "source": [
    "gene_symbols = df['gene_symbol']"
   ]
  },
  {
   "cell_type": "code",
   "execution_count": 223,
   "metadata": {},
   "outputs": [],
   "source": [
    "network_edge_list = [\n",
    "    (gene_symbols[i], gene_symbols[j], float(edge_weights[i,j])/n_datasets)\n",
    "    for i, j in edge_indices]"
   ]
  },
  {
   "cell_type": "code",
   "execution_count": 224,
   "metadata": {},
   "outputs": [],
   "source": [
    "graph = nx.Graph()"
   ]
  },
  {
   "cell_type": "code",
   "execution_count": 225,
   "metadata": {},
   "outputs": [],
   "source": [
    "graph.add_weighted_edges_from(network_edge_list)"
   ]
  },
  {
   "cell_type": "code",
   "execution_count": null,
   "metadata": {},
   "outputs": [],
   "source": []
  },
  {
   "cell_type": "code",
   "execution_count": null,
   "metadata": {},
   "outputs": [],
   "source": [
    "for group in groups:\n",
    "    _ = construct_network(\n",
    "        data_dir=data_dir, group=group, qval_thresh=qval_threshold)"
   ]
  },
  {
   "cell_type": "markdown",
   "metadata": {},
   "source": [
    "#### notebook 6"
   ]
  },
  {
   "cell_type": "code",
   "execution_count": null,
   "metadata": {},
   "outputs": [],
   "source": [
    "gene_lists = compare_across_networks(data_dir=data_dir)"
   ]
  }
 ],
 "metadata": {
  "kernelspec": {
   "display_name": "tb-gene-signature",
   "language": "python",
   "name": "tb-gene-signature"
  },
  "language_info": {
   "codemirror_mode": {
    "name": "ipython",
    "version": 3
   },
   "file_extension": ".py",
   "mimetype": "text/x-python",
   "name": "python",
   "nbconvert_exporter": "python",
   "pygments_lexer": "ipython3",
   "version": "3.8.5"
  }
 },
 "nbformat": 4,
 "nbformat_minor": 4
}
